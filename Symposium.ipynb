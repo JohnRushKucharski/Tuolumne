{
 "cells": [
  {
   "cell_type": "code",
   "execution_count": 46,
   "metadata": {},
   "outputs": [],
   "source": [
    "import os\n",
    "import math\n",
    "import numpy as np\n",
    "import pandas as pd\n",
    "import datetime as dt\n",
    "import matplotlib.pyplot as plt"
   ]
  },
  {
   "cell_type": "markdown",
   "metadata": {},
   "source": [
    "# California Extreme Precipitation Symposium\n",
    "This analysis was completed for the 2019 CA Extreme Precipitation Symposium held at UC Davis on June 25, 2019. For this analysis 3 storms were selected from the \"Baseline 2\" dataset used in Tuolumne River Watershed Climate Vulnerability Assessement and Adaptation Planning Pilot Study. "
   ]
  },
  {
   "cell_type": "markdown",
   "metadata": {},
   "source": [
    "**These following 3 storm events were analyzed:**\n",
    "1. *1997 Event* this event generates the largest inflow into Don Pedro in the 'Baseline 2' data. It is a synthetic version of the 1997 event occuring between 12-15 and 12-25.\n",
    "2.  \n",
    "3.\n",
    "</br>"
   ]
  },
  {
   "cell_type": "markdown",
   "metadata": {},
   "source": [
    "**Under the following 4 climate scenarios:**\n",
    "1. Baseline \n",
    "2. +2C Warming\n",
    "3. +2C Warming plus Clausius Clapeyron Scaling \n",
    "4. Baseline Initial Conditions with Warming and C-C Scaling during the Event "
   ]
  },
  {
   "cell_type": "markdown",
   "metadata": {},
   "source": [
    "The baseline condition is a no climate change experimental control. The 2 degrees of Celsius warming is uniformly applied to all time periods in the trace data. The Clausius-Clapeyron (C-C) scaling is applied as a +14% increase in precipitation associted for days exceeding 14mm of basin average precipitation. *NOTE: no cooresponding C-C decrease is applied to the lower end of the precipitation distribution.* The climate scenario with the baseline's initial conditions is meant to help disentangle the impact of changed intial conditions on the event level outcomes under climate change."
   ]
  },
  {
   "cell_type": "code",
   "execution_count": 47,
   "metadata": {},
   "outputs": [],
   "source": [
    "os.chdir(\"C:/Users/q0hecjrk/Documents/_Data/Tuolumne/cepsym/\")"
   ]
  },
  {
   "cell_type": "markdown",
   "metadata": {},
   "source": [
    "### 1. Event Dictionaries\n",
    "These dictionaries allow us to efficiently toggle between events and scenarios </br> </br>\n",
    "**a. 1997 Event Dictionaries**\n"
   ]
  },
  {
   "cell_type": "code",
   "execution_count": 48,
   "metadata": {},
   "outputs": [],
   "source": [
    "#1. Baseline Scenario\n",
    "_97_base =       { 'event': '1997', 'scenario': 'baseline', 'file': 'Sim82_Base.csv',\\\n",
    "                   'start': '2021-11-25', 'begin': '2021-12-15', 'end': '2021-12-25' }\n",
    "#2. Warming Scenario\n",
    "_97_2C =         { 'event': '1997', 'scenario': '+2C', 'file': 'Sim82_2c.csv',\\\n",
    "                   'start': '2021-11-25', 'begin': '2021-12-15', 'end': '2021-12-25' }\n",
    "#3. Warming plus C-C Scaling Scenario\n",
    "_97_2C_CC=       { 'event': '1997', 'scenario': '+2C_C-C', 'file': 'Sim82_2c_CC.csv',\\\n",
    "                   'start': '2021-11-25', 'begin': '2021-12-15', 'end': '2021-12-25' }\n",
    "#4. Baseline Initital Conditions + Event Warming and C-C Scaling Scenario\n",
    "_97_base_2C_CC = { 'event': '1997', 'scenario': 'baseline+2C_C-C', 'file': 'Sim82_2c_CC_HS.csv',\\\n",
    "                   'start': '2021-11-25', 'begin': '2021-12-15', 'end': '2021-12-25' }"
   ]
  },
  {
   "cell_type": "markdown",
   "metadata": {},
   "source": [
    "### 2. Set Event for Analysis and Start & End Times"
   ]
  },
  {
   "cell_type": "code",
   "execution_count": 49,
   "metadata": {},
   "outputs": [],
   "source": [
    "event_metadata = _97_base_2C_CC"
   ]
  },
  {
   "cell_type": "code",
   "execution_count": 50,
   "metadata": {},
   "outputs": [],
   "source": [
    "start_date = pd.to_datetime(event_metadata['start'],format='%Y-%m-%d')\n",
    "event_start_date = pd.to_datetime(event_metadata['begin'],format='%Y-%m-%d')\n",
    "event_end_date = pd.to_datetime(event_metadata['end'],format='%Y-%m-%d')"
   ]
  },
  {
   "cell_type": "markdown",
   "metadata": {},
   "source": [
    "### 3. Input and View Trace Data Precipitation"
   ]
  },
  {
   "cell_type": "code",
   "execution_count": 51,
   "metadata": {},
   "outputs": [],
   "source": [
    "trace = pd.read_csv('traces/' + event_metadata['file'])\n",
    "trace['DATE'] = pd.to_datetime(trace['DATE'],format='%Y-%m-%d')\n",
    "trace = trace.rename(columns = {'DATE':'date'})\n",
    "trace = trace.rename(columns = {'Watershed Total PRECIP-TAF':'precip-taf'})\n",
    "trace = trace.rename(columns = {'Watershed Total Freeze PRECIP-TAF':'snow-taf'})\n",
    "trace = trace.rename(columns = {'Watershed Average PRECIP-MM':'precip-mm'})\n",
    "trace = trace.rename(columns = {'DNP_DONPEDRO_INFLOW AF':'inflow_unreg-af'})\n",
    "trace = trace.rename(columns = {'Watershed Total SWE-TAF':'swe-taf'})"
   ]
  },
  {
   "cell_type": "code",
   "execution_count": 52,
   "metadata": {},
   "outputs": [
    {
     "data": {
      "text/html": [
       "<div>\n",
       "<style scoped>\n",
       "    .dataframe tbody tr th:only-of-type {\n",
       "        vertical-align: middle;\n",
       "    }\n",
       "\n",
       "    .dataframe tbody tr th {\n",
       "        vertical-align: top;\n",
       "    }\n",
       "\n",
       "    .dataframe thead th {\n",
       "        text-align: right;\n",
       "    }\n",
       "</style>\n",
       "<table border=\"1\" class=\"dataframe\">\n",
       "  <thead>\n",
       "    <tr style=\"text-align: right;\">\n",
       "      <th></th>\n",
       "      <th>precip-mm</th>\n",
       "      <th>precip-taf</th>\n",
       "      <th>snow-taf</th>\n",
       "      <th>swe-taf</th>\n",
       "      <th>inflow_unreg-af</th>\n",
       "      <th>rain-taf</th>\n",
       "    </tr>\n",
       "    <tr>\n",
       "      <th>date</th>\n",
       "      <th></th>\n",
       "      <th></th>\n",
       "      <th></th>\n",
       "      <th></th>\n",
       "      <th></th>\n",
       "      <th></th>\n",
       "    </tr>\n",
       "  </thead>\n",
       "  <tbody>\n",
       "    <tr>\n",
       "      <th>2019-10-01</th>\n",
       "      <td>0.0</td>\n",
       "      <td>0.0</td>\n",
       "      <td>0.0</td>\n",
       "      <td>0.0</td>\n",
       "      <td>234.066132</td>\n",
       "      <td>0.0</td>\n",
       "    </tr>\n",
       "    <tr>\n",
       "      <th>2019-10-02</th>\n",
       "      <td>0.0</td>\n",
       "      <td>0.0</td>\n",
       "      <td>0.0</td>\n",
       "      <td>0.0</td>\n",
       "      <td>241.591415</td>\n",
       "      <td>0.0</td>\n",
       "    </tr>\n",
       "    <tr>\n",
       "      <th>2019-10-03</th>\n",
       "      <td>0.0</td>\n",
       "      <td>0.0</td>\n",
       "      <td>0.0</td>\n",
       "      <td>0.0</td>\n",
       "      <td>237.607193</td>\n",
       "      <td>0.0</td>\n",
       "    </tr>\n",
       "    <tr>\n",
       "      <th>2019-10-04</th>\n",
       "      <td>0.0</td>\n",
       "      <td>0.0</td>\n",
       "      <td>0.0</td>\n",
       "      <td>0.0</td>\n",
       "      <td>231.727219</td>\n",
       "      <td>0.0</td>\n",
       "    </tr>\n",
       "    <tr>\n",
       "      <th>2019-10-05</th>\n",
       "      <td>0.0</td>\n",
       "      <td>0.0</td>\n",
       "      <td>0.0</td>\n",
       "      <td>0.0</td>\n",
       "      <td>224.373566</td>\n",
       "      <td>0.0</td>\n",
       "    </tr>\n",
       "  </tbody>\n",
       "</table>\n",
       "</div>"
      ],
      "text/plain": [
       "            precip-mm  precip-taf  snow-taf  swe-taf  inflow_unreg-af  \\\n",
       "date                                                                    \n",
       "2019-10-01        0.0         0.0       0.0      0.0       234.066132   \n",
       "2019-10-02        0.0         0.0       0.0      0.0       241.591415   \n",
       "2019-10-03        0.0         0.0       0.0      0.0       237.607193   \n",
       "2019-10-04        0.0         0.0       0.0      0.0       231.727219   \n",
       "2019-10-05        0.0         0.0       0.0      0.0       224.373566   \n",
       "\n",
       "            rain-taf  \n",
       "date                  \n",
       "2019-10-01       0.0  \n",
       "2019-10-02       0.0  \n",
       "2019-10-03       0.0  \n",
       "2019-10-04       0.0  \n",
       "2019-10-05       0.0  "
      ]
     },
     "execution_count": 52,
     "metadata": {},
     "output_type": "execute_result"
    }
   ],
   "source": [
    "trace.set_index('date', inplace = True)\n",
    "trace = trace[['precip-mm', 'precip-taf', 'snow-taf', 'swe-taf', 'inflow_unreg-af']]\n",
    "trace['rain-taf'] = trace['precip-taf'] - trace['snow-taf']\n",
    "trace.head()"
   ]
  },
  {
   "cell_type": "code",
   "execution_count": 53,
   "metadata": {},
   "outputs": [
    {
     "data": {
      "image/png": "[encoded data removed]",
      "text/plain": [
       "<Figure size 432x288 with 1 Axes>"
      ]
     },
     "metadata": {},
     "output_type": "display_data"
    }
   ],
   "source": [
    "trace_precip_figure = plt.figure()\n",
    "trace_precip_figure = plt.title('Full Trace Precipitation Time Series (' \\\n",
    "                                + event_metadata['event'] + event_metadata['scenario'] + ')')\n",
    "trace_precip_figure = plt.ylabel(\"Precipitation in mm\")\n",
    "trace_precip_figure = plt.plot(trace.index, trace['precip-mm'])\n",
    "plt.show()"
   ]
  },
  {
   "cell_type": "markdown",
   "metadata": {},
   "source": [
    "### 4. Subset Trace Data to View Month Preceding the Event Data Precipitation"
   ]
  },
  {
   "cell_type": "code",
   "execution_count": 54,
   "metadata": {},
   "outputs": [
    {
     "data": {
      "text/html": [
       "<div>\n",
       "<style scoped>\n",
       "    .dataframe tbody tr th:only-of-type {\n",
       "        vertical-align: middle;\n",
       "    }\n",
       "\n",
       "    .dataframe tbody tr th {\n",
       "        vertical-align: top;\n",
       "    }\n",
       "\n",
       "    .dataframe thead th {\n",
       "        text-align: right;\n",
       "    }\n",
       "</style>\n",
       "<table border=\"1\" class=\"dataframe\">\n",
       "  <thead>\n",
       "    <tr style=\"text-align: right;\">\n",
       "      <th></th>\n",
       "      <th>precip-mm</th>\n",
       "      <th>precip-taf</th>\n",
       "      <th>snow-taf</th>\n",
       "      <th>swe-taf</th>\n",
       "      <th>inflow_unreg-af</th>\n",
       "      <th>rain-taf</th>\n",
       "    </tr>\n",
       "    <tr>\n",
       "      <th>date</th>\n",
       "      <th></th>\n",
       "      <th></th>\n",
       "      <th></th>\n",
       "      <th></th>\n",
       "      <th></th>\n",
       "      <th></th>\n",
       "    </tr>\n",
       "  </thead>\n",
       "  <tbody>\n",
       "    <tr>\n",
       "      <th>2021-11-26</th>\n",
       "      <td>0.624840</td>\n",
       "      <td>2.690333</td>\n",
       "      <td>0.854695</td>\n",
       "      <td>196.930412</td>\n",
       "      <td>2941.080322</td>\n",
       "      <td>1.835638</td>\n",
       "    </tr>\n",
       "    <tr>\n",
       "      <th>2021-11-27</th>\n",
       "      <td>0.000000</td>\n",
       "      <td>0.000000</td>\n",
       "      <td>0.000000</td>\n",
       "      <td>194.287339</td>\n",
       "      <td>2897.163330</td>\n",
       "      <td>0.000000</td>\n",
       "    </tr>\n",
       "    <tr>\n",
       "      <th>2021-11-28</th>\n",
       "      <td>0.000000</td>\n",
       "      <td>0.000000</td>\n",
       "      <td>0.000000</td>\n",
       "      <td>190.168854</td>\n",
       "      <td>2901.592285</td>\n",
       "      <td>0.000000</td>\n",
       "    </tr>\n",
       "    <tr>\n",
       "      <th>2021-11-29</th>\n",
       "      <td>0.000000</td>\n",
       "      <td>0.540340</td>\n",
       "      <td>0.000000</td>\n",
       "      <td>183.145141</td>\n",
       "      <td>3010.466797</td>\n",
       "      <td>0.540340</td>\n",
       "    </tr>\n",
       "    <tr>\n",
       "      <th>2021-11-30</th>\n",
       "      <td>5.325871</td>\n",
       "      <td>21.257421</td>\n",
       "      <td>2.598493</td>\n",
       "      <td>184.396755</td>\n",
       "      <td>3168.954834</td>\n",
       "      <td>18.658927</td>\n",
       "    </tr>\n",
       "  </tbody>\n",
       "</table>\n",
       "</div>"
      ],
      "text/plain": [
       "            precip-mm  precip-taf  snow-taf     swe-taf  inflow_unreg-af  \\\n",
       "date                                                                       \n",
       "2021-11-26   0.624840    2.690333  0.854695  196.930412      2941.080322   \n",
       "2021-11-27   0.000000    0.000000  0.000000  194.287339      2897.163330   \n",
       "2021-11-28   0.000000    0.000000  0.000000  190.168854      2901.592285   \n",
       "2021-11-29   0.000000    0.540340  0.000000  183.145141      3010.466797   \n",
       "2021-11-30   5.325871   21.257421  2.598493  184.396755      3168.954834   \n",
       "\n",
       "             rain-taf  \n",
       "date                   \n",
       "2021-11-26   1.835638  \n",
       "2021-11-27   0.000000  \n",
       "2021-11-28   0.000000  \n",
       "2021-11-29   0.540340  \n",
       "2021-11-30  18.658927  "
      ]
     },
     "execution_count": 54,
     "metadata": {},
     "output_type": "execute_result"
    }
   ],
   "source": [
    "month_mask = (trace.index > start_date) & (trace.index <= event_end_date)\n",
    "event_month = trace[month_mask]\n",
    "event_month.head()"
   ]
  },
  {
   "cell_type": "code",
   "execution_count": 55,
   "metadata": {},
   "outputs": [
    {
     "data": {
      "image/png": "[encoded data removed]",
      "text/plain": [
       "<Figure size 432x288 with 1 Axes>"
      ]
     },
     "metadata": {},
     "output_type": "display_data"
    }
   ],
   "source": [
    "event_month_precip_figure = plt.figure()\n",
    "event_month_precip_figure = plt.title(event_metadata['event'] + ' Event Precipitation Time Series ' + event_metadata['scenario'])\n",
    "event_month_precip_figure = plt.ylabel('Precipitation in mm')\n",
    "event_month_precip_figure = plt.bar(event_month.index, event_month['precip-mm'], width = 1, facecolor = 'lightblue', edgecolor = 'blue')\n",
    "plt.show()"
   ]
  },
  {
   "cell_type": "markdown",
   "metadata": {},
   "source": [
    "*Rain and Snow breakdown*"
   ]
  },
  {
   "cell_type": "code",
   "execution_count": 56,
   "metadata": {},
   "outputs": [
    {
     "data": {
      "image/png": "[encoded data removed]",
      "text/plain": [
       "<Figure size 432x288 with 1 Axes>"
      ]
     },
     "metadata": {},
     "output_type": "display_data"
    }
   ],
   "source": [
    "event_month_precip_ratio_figure = plt.figure()\n",
    "#event_precipratio_figure = plt.title(event_name + ' Precipitation Time Series' + '(' + scenario + ')')\n",
    "event_month_precip_ratio_figure = plt.ylabel(\"Precipitation in TAF\")\n",
    "event_month_precip_ratio_figure = plt.bar(event_month.index, event_month['rain-taf'], width = 1, facecolor = 'lightblue', edgecolor = 'blue')\n",
    "event_month_precip_ratio_figure = plt.bar(event_month.index, event_month['snow-taf'], bottom = event_month['rain-taf'], width = 1, facecolor = 'white', edgecolor = 'blue')\n",
    "event_month_precip_ratio_figure = plt.savefig('figures/' + 'precip_' + event_metadata['event'] + event_metadata['scenario'] + '.png', bbox_inches='tight')\n",
    "plt.show()"
   ]
  },
  {
   "cell_type": "markdown",
   "metadata": {},
   "source": [
    "### 5. Subset to Event"
   ]
  },
  {
   "cell_type": "code",
   "execution_count": 57,
   "metadata": {},
   "outputs": [
    {
     "data": {
      "text/html": [
       "<div>\n",
       "<style scoped>\n",
       "    .dataframe tbody tr th:only-of-type {\n",
       "        vertical-align: middle;\n",
       "    }\n",
       "\n",
       "    .dataframe tbody tr th {\n",
       "        vertical-align: top;\n",
       "    }\n",
       "\n",
       "    .dataframe thead th {\n",
       "        text-align: right;\n",
       "    }\n",
       "</style>\n",
       "<table border=\"1\" class=\"dataframe\">\n",
       "  <thead>\n",
       "    <tr style=\"text-align: right;\">\n",
       "      <th></th>\n",
       "      <th>precip-mm</th>\n",
       "      <th>precip-taf</th>\n",
       "      <th>snow-taf</th>\n",
       "      <th>swe-taf</th>\n",
       "      <th>inflow_unreg-af</th>\n",
       "      <th>rain-taf</th>\n",
       "    </tr>\n",
       "    <tr>\n",
       "      <th>date</th>\n",
       "      <th></th>\n",
       "      <th></th>\n",
       "      <th></th>\n",
       "      <th></th>\n",
       "      <th></th>\n",
       "      <th></th>\n",
       "    </tr>\n",
       "  </thead>\n",
       "  <tbody>\n",
       "    <tr>\n",
       "      <th>2021-12-16</th>\n",
       "      <td>1.170432</td>\n",
       "      <td>4.211772</td>\n",
       "      <td>3.038491</td>\n",
       "      <td>539.194204</td>\n",
       "      <td>9795.707031</td>\n",
       "      <td>1.173281</td>\n",
       "    </tr>\n",
       "    <tr>\n",
       "      <th>2021-12-17</th>\n",
       "      <td>10.746029</td>\n",
       "      <td>34.752370</td>\n",
       "      <td>25.348581</td>\n",
       "      <td>562.122102</td>\n",
       "      <td>9256.348633</td>\n",
       "      <td>9.403789</td>\n",
       "    </tr>\n",
       "    <tr>\n",
       "      <th>2021-12-18</th>\n",
       "      <td>24.043171</td>\n",
       "      <td>88.397548</td>\n",
       "      <td>54.371106</td>\n",
       "      <td>624.386605</td>\n",
       "      <td>8992.731445</td>\n",
       "      <td>34.026442</td>\n",
       "    </tr>\n",
       "    <tr>\n",
       "      <th>2021-12-19</th>\n",
       "      <td>21.298061</td>\n",
       "      <td>76.899979</td>\n",
       "      <td>58.324970</td>\n",
       "      <td>683.990687</td>\n",
       "      <td>8544.591797</td>\n",
       "      <td>18.575008</td>\n",
       "    </tr>\n",
       "    <tr>\n",
       "      <th>2021-12-20</th>\n",
       "      <td>132.735474</td>\n",
       "      <td>453.492079</td>\n",
       "      <td>3.975235</td>\n",
       "      <td>677.331749</td>\n",
       "      <td>76047.039062</td>\n",
       "      <td>449.516843</td>\n",
       "    </tr>\n",
       "  </tbody>\n",
       "</table>\n",
       "</div>"
      ],
      "text/plain": [
       "             precip-mm  precip-taf   snow-taf     swe-taf  inflow_unreg-af  \\\n",
       "date                                                                         \n",
       "2021-12-16    1.170432    4.211772   3.038491  539.194204      9795.707031   \n",
       "2021-12-17   10.746029   34.752370  25.348581  562.122102      9256.348633   \n",
       "2021-12-18   24.043171   88.397548  54.371106  624.386605      8992.731445   \n",
       "2021-12-19   21.298061   76.899979  58.324970  683.990687      8544.591797   \n",
       "2021-12-20  132.735474  453.492079   3.975235  677.331749     76047.039062   \n",
       "\n",
       "              rain-taf  \n",
       "date                    \n",
       "2021-12-16    1.173281  \n",
       "2021-12-17    9.403789  \n",
       "2021-12-18   34.026442  \n",
       "2021-12-19   18.575008  \n",
       "2021-12-20  449.516843  "
      ]
     },
     "execution_count": 57,
     "metadata": {},
     "output_type": "execute_result"
    }
   ],
   "source": [
    "event_mask = (trace.index > event_start_date) & (trace.index <= event_end_date)\n",
    "event = trace[event_mask]\n",
    "event.head()"
   ]
  },
  {
   "cell_type": "code",
   "execution_count": 58,
   "metadata": {},
   "outputs": [
    {
     "name": "stdout",
     "output_type": "stream",
     "text": [
      "portion rain: 0.8513465636229435\n",
      "portion snow: 0.14865343637705647\n",
      "total rain: 1121.9989353705607\n",
      "total snow: 195.91198752768165\n",
      "inflow: 748.26689453125\n"
     ]
    }
   ],
   "source": [
    "event_rain_total = sum(event['rain-taf'])\n",
    "event_snow_total = sum(event['snow-taf'])\n",
    "event_inflow_total = sum(event['inflow_unreg-af']) / 1000\n",
    "rain_portion = event_rain_total / (event_rain_total + event_snow_total)\n",
    "snow_portion = event_snow_total / (event_rain_total + event_snow_total)\n",
    "print('portion rain: ' + str(rain_portion))\n",
    "print('portion snow: ' + str(snow_portion))\n",
    "print('total rain: ' + str(event_rain_total))\n",
    "print('total snow: ' + str(event_snow_total))\n",
    "print('inflow: ' + str(event_inflow_total))"
   ]
  },
  {
   "cell_type": "code",
   "execution_count": 59,
   "metadata": {},
   "outputs": [
    {
     "data": {
      "image/png": "[encoded data removed]",
      "text/plain": [
       "<Figure size 432x288 with 1 Axes>"
      ]
     },
     "metadata": {},
     "output_type": "display_data"
    }
   ],
   "source": [
    "event_precip_ratio_figure = plt.bar('', rain_portion, width = 1, facecolor = 'lightblue', edgecolor = 'blue')\n",
    "event_precip_ratio_figure = plt.bar('', snow_portion, bottom = rain_portion, width = 1, facecolor = 'white', edgecolor = 'blue')"
   ]
  },
  {
   "cell_type": "code",
   "execution_count": 60,
   "metadata": {},
   "outputs": [],
   "source": [
    "event.to_csv('event_comparisons/' + event_metadata['event'] + 'Event_' + event_metadata['scenario'] + '.csv' )"
   ]
  },
  {
   "cell_type": "markdown",
   "metadata": {},
   "source": [
    "## This analysis is continued on the notebook titled Event_Comparison..."
   ]
  }
 ],
 "metadata": {
  "kernelspec": {
   "display_name": "Python 3",
   "language": "python",
   "name": "python3"
  },
  "language_info": {
   "codemirror_mode": {
    "name": "ipython",
    "version": 3
   },
   "file_extension": ".py",
   "mimetype": "text/x-python",
   "name": "python",
   "nbconvert_exporter": "python",
   "pygments_lexer": "ipython3",
   "version": "3.6.5"
  }
 },
 "nbformat": 4,
 "nbformat_minor": 2
}
