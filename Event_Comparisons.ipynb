{
 "cells": [
  {
   "cell_type": "code",
   "execution_count": 11,
   "metadata": {},
   "outputs": [],
   "source": [
    "import os\n",
    "import pandas as pd"
   ]
  },
  {
   "cell_type": "code",
   "execution_count": 12,
   "metadata": {},
   "outputs": [],
   "source": [
    "os.chdir(\"C:/Users/q0hecjrk/Documents/_Data/Tuolumne/cepsym/event_comparisons/\")"
   ]
  },
  {
   "cell_type": "code",
   "execution_count": 13,
   "metadata": {},
   "outputs": [],
   "source": [
    "event = '1997'\n",
    "labels = ['baseline', '+2C', '+2C_C-C', 'baseline+2C_C-C']"
   ]
  },
  {
   "cell_type": "code",
   "execution_count": 14,
   "metadata": {},
   "outputs": [],
   "source": [
    "scenario_dfs = {\n",
    "    'baseline': pd.read_csv(str(event) + 'Event_baseline.csv'),\n",
    "    '+2C': pd.read_csv(str(event) + 'Event_+2C.csv'),\n",
    "    '+2C_C-C': pd.read_csv(str(event) + 'Event_+2C_C-C.csv'),\n",
    "    'baseline+2C_C-C': pd.read_csv(str(event) + 'Event_baseline+2C_C-C.csv')\n",
    "}"
   ]
  },
  {
   "cell_type": "code",
   "execution_count": 15,
   "metadata": {},
   "outputs": [],
   "source": [
    "scenarios_df = pd.DataFrame(columns = ['precip-mm', 'precip-taf', 'rain-taf', 'snow-taf', 'swe-taf', 'inflow_unreg-taf'], index = labels)\n",
    "for i in range(len(labels)):\n",
    "    scenario_df = pd.read_csv(str(event) + 'Event_' + labels[i] + '.csv')\n",
    "    scenarios_df.loc[labels[i]] = [ sum(scenario_df['precip-mm']), sum(scenario_df['precip-taf']), sum(scenario_df['rain-taf']), sum(scenario_df['snow-taf']), sum(scenario_df['swe-taf']), sum(scenario_df['inflow_unreg-af']) / 1000 ]"
   ]
  },
  {
   "cell_type": "code",
   "execution_count": 16,
   "metadata": {},
   "outputs": [
    {
     "data": {
      "text/html": [
       "<div>\n",
       "<style scoped>\n",
       "    .dataframe tbody tr th:only-of-type {\n",
       "        vertical-align: middle;\n",
       "    }\n",
       "\n",
       "    .dataframe tbody tr th {\n",
       "        vertical-align: top;\n",
       "    }\n",
       "\n",
       "    .dataframe thead th {\n",
       "        text-align: right;\n",
       "    }\n",
       "</style>\n",
       "<table border=\"1\" class=\"dataframe\">\n",
       "  <thead>\n",
       "    <tr style=\"text-align: right;\">\n",
       "      <th></th>\n",
       "      <th>precip-mm</th>\n",
       "      <th>precip-taf</th>\n",
       "      <th>rain-taf</th>\n",
       "      <th>snow-taf</th>\n",
       "      <th>swe-taf</th>\n",
       "      <th>inflow_unreg-taf</th>\n",
       "    </tr>\n",
       "  </thead>\n",
       "  <tbody>\n",
       "    <tr>\n",
       "      <th>baseline</th>\n",
       "      <td>333.685</td>\n",
       "      <td>1168.54</td>\n",
       "      <td>992.013</td>\n",
       "      <td>176.529</td>\n",
       "      <td>6147.39</td>\n",
       "      <td>637.467</td>\n",
       "    </tr>\n",
       "    <tr>\n",
       "      <th>+2C</th>\n",
       "      <td>333.685</td>\n",
       "      <td>1168.54</td>\n",
       "      <td>1061.69</td>\n",
       "      <td>106.848</td>\n",
       "      <td>3176.72</td>\n",
       "      <td>793.738</td>\n",
       "    </tr>\n",
       "    <tr>\n",
       "      <th>+2C_C-C</th>\n",
       "      <td>377.411</td>\n",
       "      <td>1317.91</td>\n",
       "      <td>1199.42</td>\n",
       "      <td>118.488</td>\n",
       "      <td>3625.36</td>\n",
       "      <td>921.989</td>\n",
       "    </tr>\n",
       "    <tr>\n",
       "      <th>baseline+2C_C-C</th>\n",
       "      <td>377.411</td>\n",
       "      <td>1317.91</td>\n",
       "      <td>1122</td>\n",
       "      <td>195.912</td>\n",
       "      <td>6918.33</td>\n",
       "      <td>748.267</td>\n",
       "    </tr>\n",
       "  </tbody>\n",
       "</table>\n",
       "</div>"
      ],
      "text/plain": [
       "                precip-mm precip-taf rain-taf snow-taf  swe-taf  \\\n",
       "baseline          333.685    1168.54  992.013  176.529  6147.39   \n",
       "+2C               333.685    1168.54  1061.69  106.848  3176.72   \n",
       "+2C_C-C           377.411    1317.91  1199.42  118.488  3625.36   \n",
       "baseline+2C_C-C   377.411    1317.91     1122  195.912  6918.33   \n",
       "\n",
       "                inflow_unreg-taf  \n",
       "baseline                 637.467  \n",
       "+2C                      793.738  \n",
       "+2C_C-C                  921.989  \n",
       "baseline+2C_C-C          748.267  "
      ]
     },
     "execution_count": 16,
     "metadata": {},
     "output_type": "execute_result"
    }
   ],
   "source": [
    "scenarios_df.head()"
   ]
  },
  {
   "cell_type": "code",
   "execution_count": 17,
   "metadata": {},
   "outputs": [],
   "source": [
    "for index, row in scenarios_df.iterrows():\n",
    "    if (index == 'baseline'):\n",
    "        base = row['inflow_unreg-taf']\n",
    "    else:\n",
    "        scenarios_df.at[index,'inflow_change'] = (row['inflow_unreg-taf'] - base) / base"
   ]
  },
  {
   "cell_type": "code",
   "execution_count": 18,
   "metadata": {},
   "outputs": [
    {
     "data": {
      "text/html": [
       "<div>\n",
       "<style scoped>\n",
       "    .dataframe tbody tr th:only-of-type {\n",
       "        vertical-align: middle;\n",
       "    }\n",
       "\n",
       "    .dataframe tbody tr th {\n",
       "        vertical-align: top;\n",
       "    }\n",
       "\n",
       "    .dataframe thead th {\n",
       "        text-align: right;\n",
       "    }\n",
       "</style>\n",
       "<table border=\"1\" class=\"dataframe\">\n",
       "  <thead>\n",
       "    <tr style=\"text-align: right;\">\n",
       "      <th></th>\n",
       "      <th>precip-mm</th>\n",
       "      <th>precip-taf</th>\n",
       "      <th>rain-taf</th>\n",
       "      <th>snow-taf</th>\n",
       "      <th>swe-taf</th>\n",
       "      <th>inflow_unreg-taf</th>\n",
       "      <th>inflow_change</th>\n",
       "    </tr>\n",
       "  </thead>\n",
       "  <tbody>\n",
       "    <tr>\n",
       "      <th>baseline</th>\n",
       "      <td>333.685</td>\n",
       "      <td>1168.54</td>\n",
       "      <td>992.013</td>\n",
       "      <td>176.529</td>\n",
       "      <td>6147.39</td>\n",
       "      <td>637.467</td>\n",
       "      <td>NaN</td>\n",
       "    </tr>\n",
       "    <tr>\n",
       "      <th>+2C</th>\n",
       "      <td>333.685</td>\n",
       "      <td>1168.54</td>\n",
       "      <td>1061.69</td>\n",
       "      <td>106.848</td>\n",
       "      <td>3176.72</td>\n",
       "      <td>793.738</td>\n",
       "      <td>0.245144</td>\n",
       "    </tr>\n",
       "    <tr>\n",
       "      <th>+2C_C-C</th>\n",
       "      <td>377.411</td>\n",
       "      <td>1317.91</td>\n",
       "      <td>1199.42</td>\n",
       "      <td>118.488</td>\n",
       "      <td>3625.36</td>\n",
       "      <td>921.989</td>\n",
       "      <td>0.446333</td>\n",
       "    </tr>\n",
       "    <tr>\n",
       "      <th>baseline+2C_C-C</th>\n",
       "      <td>377.411</td>\n",
       "      <td>1317.91</td>\n",
       "      <td>1122</td>\n",
       "      <td>195.912</td>\n",
       "      <td>6918.33</td>\n",
       "      <td>748.267</td>\n",
       "      <td>0.173813</td>\n",
       "    </tr>\n",
       "  </tbody>\n",
       "</table>\n",
       "</div>"
      ],
      "text/plain": [
       "                precip-mm precip-taf rain-taf snow-taf  swe-taf  \\\n",
       "baseline          333.685    1168.54  992.013  176.529  6147.39   \n",
       "+2C               333.685    1168.54  1061.69  106.848  3176.72   \n",
       "+2C_C-C           377.411    1317.91  1199.42  118.488  3625.36   \n",
       "baseline+2C_C-C   377.411    1317.91     1122  195.912  6918.33   \n",
       "\n",
       "                inflow_unreg-taf  inflow_change  \n",
       "baseline                 637.467            NaN  \n",
       "+2C                      793.738       0.245144  \n",
       "+2C_C-C                  921.989       0.446333  \n",
       "baseline+2C_C-C          748.267       0.173813  "
      ]
     },
     "execution_count": 18,
     "metadata": {},
     "output_type": "execute_result"
    }
   ],
   "source": [
    "scenarios_df.head()"
   ]
  }
 ],
 "metadata": {
  "kernelspec": {
   "display_name": "Python 3",
   "language": "python",
   "name": "python3"
  },
  "language_info": {
   "codemirror_mode": {
    "name": "ipython",
    "version": 3
   },
   "file_extension": ".py",
   "mimetype": "text/x-python",
   "name": "python",
   "nbconvert_exporter": "python",
   "pygments_lexer": "ipython3",
   "version": "3.6.5"
  }
 },
 "nbformat": 4,
 "nbformat_minor": 2
}
